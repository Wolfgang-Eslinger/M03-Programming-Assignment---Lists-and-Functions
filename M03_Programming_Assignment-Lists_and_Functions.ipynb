{
 "cells": [
  {
   "cell_type": "code",
   "execution_count": 6,
   "id": "a4342f61",
   "metadata": {},
   "outputs": [],
   "source": [
    "#7.4 Make a list called things with these three strings as elements: \"mozzarella\", \"cinderella\", \"salmonella\"."
   ]
  },
  {
   "cell_type": "code",
   "execution_count": 3,
   "id": "24bbee73",
   "metadata": {},
   "outputs": [],
   "source": [
    "things = [\"mozzarella\", \"cinderella\", \"salmonella\"]"
   ]
  },
  {
   "cell_type": "code",
   "execution_count": 7,
   "id": "c70a5278",
   "metadata": {},
   "outputs": [],
   "source": [
    "#7.5 Capitalize the element in things that refers to a person and then print the list. Did it change the element in the list?"
   ]
  },
  {
   "cell_type": "code",
   "execution_count": 4,
   "id": "72144a6b",
   "metadata": {},
   "outputs": [
    {
     "name": "stdout",
     "output_type": "stream",
     "text": [
      "['mozzarella', 'Cinderella', 'salmonella']\n"
     ]
    }
   ],
   "source": [
    "things = [\"mozzarella\", \"cinderella\", \"salmonella\"]\n",
    "things[1] = things[1].capitalize()\n",
    "print(things)\n"
   ]
  },
  {
   "cell_type": "code",
   "execution_count": 5,
   "id": "ca2624b7",
   "metadata": {},
   "outputs": [
    {
     "name": "stdout",
     "output_type": "stream",
     "text": [
      "mozzarella\n",
      "Cinderella\n",
      "salmonella\n"
     ]
    }
   ],
   "source": [
    "things = [\"mozzarella\", \"cinderella\", \"salmonella\"]\n",
    "for item in things:\n",
    "    print(item.capitalize() if item == \"cinderella\" else item)\n"
   ]
  },
  {
   "cell_type": "code",
   "execution_count": 8,
   "id": "1b3ef355",
   "metadata": {},
   "outputs": [],
   "source": [
    "#7.6 Make the cheesy element of things all uppercase and then print the list."
   ]
  },
  {
   "cell_type": "code",
   "execution_count": 9,
   "id": "1c66c696",
   "metadata": {},
   "outputs": [
    {
     "name": "stdout",
     "output_type": "stream",
     "text": [
      "['MOZZARELLA', 'cinderella', 'salmonella']\n"
     ]
    }
   ],
   "source": [
    "things = [\"mozzarella\", \"cinderella\", \"salmonella\"]\n",
    "things[0] = things[0].upper()  # Convert \"mozzarella\" to uppercase\n",
    "print(things)\n"
   ]
  },
  {
   "cell_type": "code",
   "execution_count": 10,
   "id": "94e9ddc2",
   "metadata": {},
   "outputs": [
    {
     "name": "stdout",
     "output_type": "stream",
     "text": [
      "MOZZARELLA\n",
      "cinderella\n",
      "salmonella\n"
     ]
    }
   ],
   "source": [
    "things = [\"mozzarella\", \"cinderella\", \"salmonella\"]\n",
    "for item in things:\n",
    "    print(item.upper() if item == \"mozzarella\" else item)\n"
   ]
  },
  {
   "cell_type": "code",
   "execution_count": 11,
   "id": "aff15d76",
   "metadata": {},
   "outputs": [],
   "source": [
    "#7.7 Delete the disease element from things, collect your Nobel Prize, and print the list."
   ]
  },
  {
   "cell_type": "code",
   "execution_count": 12,
   "id": "42e5e60a",
   "metadata": {},
   "outputs": [
    {
     "name": "stdout",
     "output_type": "stream",
     "text": [
      "['mozzarella', 'cinderella']\n",
      "Congratulations on your Nobel Prize!\n"
     ]
    }
   ],
   "source": [
    "things = [\"mozzarella\", \"cinderella\", \"salmonella\"]\n",
    "things.remove(\"salmonella\")  # Remove the 'disease' element\n",
    "print(things)  # Print the updated list\n",
    "\n",
    "# Imaginarily collecting your Nobel Prize!\n",
    "print(\"Congratulations on your Nobel Prize!\")\n"
   ]
  },
  {
   "cell_type": "code",
   "execution_count": 13,
   "id": "95097c86",
   "metadata": {},
   "outputs": [],
   "source": [
    "#9.1 Define a function called good() that returns the following list: ['Harry', 'Ron', 'Hermione']."
   ]
  },
  {
   "cell_type": "code",
   "execution_count": 14,
   "id": "5a9a9060",
   "metadata": {},
   "outputs": [
    {
     "name": "stdout",
     "output_type": "stream",
     "text": [
      "['Harry', 'Ron', 'Hermione']\n"
     ]
    }
   ],
   "source": [
    "def good():\n",
    "    return ['Harry', 'Ron', 'Hermione']\n",
    "\n",
    "# To test the function, you can call it and print its return value:\n",
    "print(good())\n"
   ]
  },
  {
   "cell_type": "code",
   "execution_count": 15,
   "id": "c5dd4480",
   "metadata": {},
   "outputs": [],
   "source": [
    "#9.2 Define a generator function called get_odds() that returns the odd numbers from range(10). Use a for loop to find and print the third value returned."
   ]
  },
  {
   "cell_type": "code",
   "execution_count": 16,
   "id": "026725bc",
   "metadata": {},
   "outputs": [
    {
     "name": "stdout",
     "output_type": "stream",
     "text": [
      "The third odd number is: 5\n"
     ]
    }
   ],
   "source": [
    "def get_odds():\n",
    "    for number in range(10):\n",
    "        if number % 2 != 0:\n",
    "            yield number\n",
    "\n",
    "# Use a for loop to find and print the third odd number\n",
    "odd_count = 0\n",
    "for odd_number in get_odds():\n",
    "    odd_count += 1\n",
    "    if odd_count == 3:\n",
    "        print(\"The third odd number is:\", odd_number)\n",
    "        break\n",
    "#This one actually had me for a second for some reason"
   ]
  },
  {
   "cell_type": "code",
   "execution_count": null,
   "id": "20b52fc4",
   "metadata": {},
   "outputs": [],
   "source": []
  }
 ],
 "metadata": {
  "kernelspec": {
   "display_name": "Python 3 (ipykernel)",
   "language": "python",
   "name": "python3"
  },
  "language_info": {
   "codemirror_mode": {
    "name": "ipython",
    "version": 3
   },
   "file_extension": ".py",
   "mimetype": "text/x-python",
   "name": "python",
   "nbconvert_exporter": "python",
   "pygments_lexer": "ipython3",
   "version": "3.8.18"
  }
 },
 "nbformat": 4,
 "nbformat_minor": 5
}
